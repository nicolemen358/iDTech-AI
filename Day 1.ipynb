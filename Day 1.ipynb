{
 "cells": [
  {
   "cell_type": "code",
   "execution_count": 1,
   "metadata": {},
   "outputs": [
    {
     "name": "stdout",
     "output_type": "stream",
     "text": [
      "Hello World\n"
     ]
    }
   ],
   "source": [
    "print(\"Hello World\")"
   ]
  },
  {
   "cell_type": "code",
   "execution_count": 2,
   "metadata": {},
   "outputs": [
    {
     "data": {
      "text/plain": [
       "3"
      ]
     },
     "execution_count": 2,
     "metadata": {},
     "output_type": "execute_result"
    }
   ],
   "source": [
    "1+2\n"
   ]
  },
  {
   "cell_type": "code",
   "execution_count": 3,
   "metadata": {},
   "outputs": [
    {
     "data": {
      "text/plain": [
       "9"
      ]
     },
     "execution_count": 3,
     "metadata": {},
     "output_type": "execute_result"
    }
   ],
   "source": [
    "3*3"
   ]
  },
  {
   "cell_type": "code",
   "execution_count": 5,
   "metadata": {},
   "outputs": [
    {
     "data": {
      "text/plain": [
       "'I am a string'"
      ]
     },
     "execution_count": 5,
     "metadata": {},
     "output_type": "execute_result"
    }
   ],
   "source": [
    "a =\"I am a string\"\n",
    "a"
   ]
  },
  {
   "cell_type": "code",
   "execution_count": 8,
   "metadata": {},
   "outputs": [
    {
     "data": {
      "text/plain": [
       "'I AM A STRING'"
      ]
     },
     "execution_count": 8,
     "metadata": {},
     "output_type": "execute_result"
    }
   ],
   "source": [
    "a.upper()\n"
   ]
  },
  {
   "cell_type": "code",
   "execution_count": 16,
   "metadata": {},
   "outputs": [],
   "source": [
    "def my_func(x,y):\n",
    "    answer = x**2 + 2*x*y + y**2\n",
    "    return answer"
   ]
  },
  {
   "cell_type": "code",
   "execution_count": 17,
   "metadata": {},
   "outputs": [
    {
     "data": {
      "text/plain": [
       "121"
      ]
     },
     "execution_count": 17,
     "metadata": {},
     "output_type": "execute_result"
    }
   ],
   "source": [
    "my_func(5,6)"
   ]
  },
  {
   "cell_type": "code",
   "execution_count": 20,
   "metadata": {},
   "outputs": [
    {
     "name": "stdout",
     "output_type": "stream",
     "text": [
      "Nice job!\n"
     ]
    }
   ],
   "source": [
    "sports_played = 3\n",
    "if(sports_played < 3):\n",
    "    print(\"Try out some new sports!!\")\n",
    "else:\n",
    "    print(\"Nice job!\")"
   ]
  },
  {
   "cell_type": "code",
   "execution_count": 23,
   "metadata": {},
   "outputs": [
    {
     "data": {
      "text/plain": [
       "3"
      ]
     },
     "execution_count": 23,
     "metadata": {},
     "output_type": "execute_result"
    }
   ],
   "source": [
    "import random\n",
    "random.randint(1,8)"
   ]
  },
  {
   "cell_type": "code",
   "execution_count": 24,
   "metadata": {},
   "outputs": [
    {
     "name": "stdout",
     "output_type": "stream",
     "text": [
      "4\n",
      "6\n",
      "1\n",
      "2\n",
      "8\n",
      "4\n",
      "2\n",
      "5\n"
     ]
    }
   ],
   "source": [
    "chance = 8\n",
    "for i in range(8):\n",
    "    print(random.randint(1,8))"
   ]
  },
  {
   "cell_type": "code",
   "execution_count": 4,
   "metadata": {},
   "outputs": [
    {
     "name": "stdout",
     "output_type": "stream",
     "text": [
      "Guess a number!50\n",
      "Too large!\n",
      "Guess a number!25\n",
      "Too large!\n",
      "Guess a number!10\n",
      "Too large!\n",
      "Guess a number!8\n",
      "Too large!\n",
      "Guess a number!4\n",
      "Too small!\n",
      "Guess a number!6\n",
      "You won!!\n"
     ]
    }
   ],
   "source": [
    "import random\n",
    "ans = random.randint(1,100)\n",
    "chance = 8\n",
    "while (chance >= 1):\n",
    "    guess = int(input(\"Guess a number!\"))\n",
    "    if (guess == ans):\n",
    "            print(\"You won!!\")\n",
    "            break\n",
    "    elif (guess < ans):\n",
    "            print(\"Too small!\")\n",
    "            chance -= 1\n",
    "    else:\n",
    "            print(\"Too large!\")\n",
    "            chance -= 1"
   ]
  },
  {
   "cell_type": "code",
   "execution_count": 2,
   "metadata": {},
   "outputs": [
    {
     "name": "stdout",
     "output_type": "stream",
     "text": [
      "You can attack other people!\n"
     ]
    }
   ],
   "source": [
    "health = 15\n",
    "skill = 10\n",
    "\n",
    "if (skill >= 5 and health > 0):\n",
    "    print(\"You can attack other people!\")\n",
    "elif (skill > 0 and health > 0):\n",
    "    print(\"You can defend yourself!\")\n",
    "else:\n",
    "    print(\"You are unable to attack or defend yourself!\")"
   ]
  }
 ],
 "metadata": {
  "kernelspec": {
   "display_name": "Python 3",
   "language": "python",
   "name": "python3"
  }
 },
 "nbformat": 4,
 "nbformat_minor": 2
}
