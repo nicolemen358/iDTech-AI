{
 "cells": [
  {
   "cell_type": "code",
   "execution_count": 6,
   "metadata": {},
   "outputs": [
    {
     "name": "stdout",
     "output_type": "stream",
     "text": [
      "{'favorite fruit': 'mango', 'favorite sport': 'track', 'favorite color': 'turquoise'}\n",
      "favorite fruit\n",
      "mango\n",
      "favorite sport\n",
      "track\n",
      "favorite color\n",
      "turquoise\n"
     ]
    }
   ],
   "source": [
    "favorites = {\n",
    "    'favorite fruit' : 'mango',\n",
    "    'favorite sport' : 'track',\n",
    "    'favorite color' : 'turquoise'\n",
    "}\n",
    "print(favorites)\n",
    "\n",
    "for keys in favorites.keys():\n",
    "    print(keys)\n",
    "    print(favorites[keys])"
   ]
  },
  {
   "cell_type": "code",
   "execution_count": 5,
   "metadata": {
    "scrolled": true
   },
   "outputs": [
    {
     "name": "stdout",
     "output_type": "stream",
     "text": [
      "[1, 2, 3, 4, 5, 6, 7, 8]\n"
     ]
    }
   ],
   "source": [
    "list1 = [1, 2, 3, 4]\n",
    "list2 = [5, 6, 7, 8]\n",
    "\n",
    "print(list1+list2)"
   ]
  },
  {
   "cell_type": "code",
   "execution_count": 12,
   "metadata": {
    "scrolled": true
   },
   "outputs": [
    {
     "name": "stdout",
     "output_type": "stream",
     "text": [
      "The character   showed up  1 times.\n",
      "The character ! showed up  1 times.\n",
      "The character # showed up  3 times.\n",
      "The character $ showed up  1 times.\n",
      "The character % showed up  1 times.\n",
      "The character & showed up  2 times.\n",
      "The character ( showed up  2 times.\n",
      "The character ) showed up  2 times.\n",
      "The character * showed up  5 times.\n",
      "The character - showed up  2 times.\n",
      "The character 0 showed up  5 times.\n",
      "The character 1 showed up  3 times.\n",
      "The character 2 showed up  5 times.\n",
      "The character 3 showed up  4 times.\n",
      "The character 4 showed up  2 times.\n",
      "The character 5 showed up  3 times.\n",
      "The character 6 showed up  1 times.\n",
      "The character 7 showed up  4 times.\n",
      "The character 8 showed up 10 times.\n",
      "The character 9 showed up 14 times.\n",
      "The character @ showed up  1 times.\n",
      "The character A showed up  1 times.\n",
      "The character D showed up  1 times.\n",
      "The character E showed up  9 times.\n",
      "The character F showed up  2 times.\n",
      "The character G showed up  2 times.\n",
      "The character I showed up  1 times.\n",
      "The character Q showed up  3 times.\n",
      "The character R showed up  3 times.\n",
      "The character S showed up  1 times.\n",
      "The character U showed up  2 times.\n",
      "The character W showed up  8 times.\n",
      "The character Y showed up  1 times.\n",
      "The character ^ showed up  3 times.\n",
      "The character a showed up  7 times.\n",
      "The character b showed up  4 times.\n",
      "The character c showed up  1 times.\n",
      "The character d showed up  8 times.\n",
      "The character e showed up  8 times.\n",
      "The character f showed up  4 times.\n",
      "The character g showed up  7 times.\n",
      "The character h showed up  4 times.\n",
      "The character i showed up  6 times.\n",
      "The character j showed up  3 times.\n",
      "The character k showed up  2 times.\n",
      "The character l showed up  1 times.\n",
      "The character n showed up  1 times.\n",
      "The character o showed up  5 times.\n",
      "The character p showed up  1 times.\n",
      "The character q showed up  3 times.\n",
      "The character r showed up  1 times.\n",
      "The character s showed up  5 times.\n",
      "The character u showed up  4 times.\n",
      "The character v showed up  4 times.\n",
      "The character w showed up 13 times.\n",
      "The character x showed up  2 times.\n",
      "The character y showed up  1 times.\n",
      "The character z showed up  3 times.\n"
     ]
    }
   ],
   "source": [
    "rand = 'aefdvhoseuwiquwrh029198387gewb5bd435wq187eagaeg9*(*87271^^!&*#*@##$%^&*EWREFsbjacxiQEWRQ56WEYRW9EU9U88(9dk)wEG9Q982ugwajsozidvoI98SD9F8230EWG0WEw8ge9wwsgh9dfvi0w029q-ew-9sdivjobkflhan apoiwugydxzzfdewWE4A3W)' \n",
    "\n",
    "rand_count = {}\n",
    "for char in rand:\n",
    "    if char not in rand_count:\n",
    "        rand_count[char] = 1\n",
    "    else:\n",
    "        rand_count[char] += 1\n",
    "        \n",
    "for key in sorted(rand_count.keys()):\n",
    "    print(\"The character {:1s} showed up {:2d} times.\".format(key,rand_count[key]))\n",
    "    "
   ]
  },
  {
   "cell_type": "code",
   "execution_count": 30,
   "metadata": {},
   "outputs": [
    {
     "name": "stdout",
     "output_type": "stream",
     "text": [
      "The character A  showed up  20 times.\n",
      "The character B  showed up  20 times.\n",
      "The character C  showed up  22 times.\n",
      "The character D  showed up  17 times.\n",
      "The character E  showed up  23 times.\n",
      "The character F  showed up  21 times.\n",
      "The character G  showed up  21 times.\n",
      "The character H  showed up  19 times.\n",
      "The character I  showed up  20 times.\n",
      "The character J  showed up  18 times.\n",
      "The character K  showed up  19 times.\n",
      "The character L  showed up  14 times.\n",
      "The character M  showed up  27 times.\n",
      "The character N  showed up  23 times.\n",
      "The character O  showed up  21 times.\n",
      "The character P  showed up  13 times.\n",
      "The character Q  showed up  19 times.\n",
      "The character R  showed up  22 times.\n",
      "The character S  showed up  16 times.\n",
      "The character T  showed up  18 times.\n",
      "The character U  showed up  23 times.\n",
      "The character V  showed up  24 times.\n",
      "The character W  showed up  31 times.\n",
      "The character X  showed up  13 times.\n",
      "The character Y  showed up  21 times.\n",
      "The character Z  showed up   9 times.\n",
      "The character a  showed up  14 times.\n",
      "The character b  showed up  20 times.\n",
      "The character c  showed up  23 times.\n",
      "The character d  showed up  19 times.\n",
      "The character e  showed up  17 times.\n",
      "The character f  showed up  18 times.\n",
      "The character g  showed up  23 times.\n",
      "The character h  showed up  19 times.\n",
      "The character i  showed up  25 times.\n",
      "The character j  showed up  18 times.\n",
      "The character k  showed up  23 times.\n",
      "The character l  showed up  15 times.\n",
      "The character m  showed up  17 times.\n",
      "The character n  showed up  16 times.\n",
      "The character o  showed up  20 times.\n",
      "The character p  showed up  15 times.\n",
      "The character q  showed up  16 times.\n",
      "The character r  showed up  20 times.\n",
      "The character s  showed up  20 times.\n",
      "The character t  showed up  14 times.\n",
      "The character u  showed up  20 times.\n",
      "The character v  showed up  11 times.\n",
      "The character w  showed up  21 times.\n",
      "The character x  showed up  22 times.\n",
      "The character y  showed up  20 times.\n",
      "The character z  showed up  21 times.\n"
     ]
    }
   ],
   "source": [
    "import string\n",
    "import random\n",
    "r = ''\n",
    "\n",
    "for i in range(1001):\n",
    "       r += random.choice(string.ascii_letters)\n",
    "        \n",
    "        \n",
    "r_count = {}\n",
    "for char in r:\n",
    "    if char not in r_count:\n",
    "        r_count[char] = 1\n",
    "    else:\n",
    "        r_count[char] += 1\n",
    "        \n",
    "for key in sorted(r_count.keys()):\n",
    "    print(\"The character {:2s} showed up {:3d} times.\".format(key,r_count[key]))\n",
    "    "
   ]
  },
  {
   "cell_type": "code",
   "execution_count": 45,
   "metadata": {},
   "outputs": [
    {
     "name": "stdout",
     "output_type": "stream",
     "text": [
      "Health: 10 Speed: 15 Skill: 8 Defense: 5 Attack: 19\n",
      "Health: 20 Speed: 10 Skill: 10 Defense: 4 Attack: 15\n"
     ]
    }
   ],
   "source": [
    "class robot:\n",
    "    def __init__(self, health, speed, skill, defense, attack):\n",
    "        self.health = health\n",
    "        self.speed = speed\n",
    "        self.skill = skill\n",
    "        self.defense = defense\n",
    "        self.attack = attack\n",
    "        \n",
    "robot_1 = robot(10, 15, 8, 5, 19)\n",
    "robot_2 = robot(20, 10, 10, 4, 15)\n",
    "\n",
    "print(\"Health:\", robot_1.health, \"Speed:\", robot_1.speed, \"Skill:\", robot_1.skill, \"Defense:\", robot_1.defense, \"Attack:\", robot_1.attack)\n",
    "print(\"Health:\", robot_2.health, \"Speed:\", robot_2.speed, \"Skill:\", robot_2.skill, \"Defense:\", robot_2.defense, \"Attack:\", robot_2. attack)\n",
    "#print('Health: {:2d}, Speed: {:2d}, Skill: {:2d}, Defense: {:2d}, Attack: {:2d}'.format(robot_1.health, robot_1.speed, robot_1.skill, robot_1.defense, robot_1.attack)"
   ]
  },
  {
   "cell_type": "code",
   "execution_count": 55,
   "metadata": {},
   "outputs": [
    {
     "name": "stdout",
     "output_type": "stream",
     "text": [
      "Round starts now!\n",
      "Success  :  100\n",
      "Failure  :  100\n",
      "Round starts now!\n",
      "Success  :  93\n",
      "Failure  :  81\n",
      "Round starts now!\n",
      "Success  :  71\n",
      "Failure  :  72\n",
      "Round starts now!\n",
      "Success  :  64\n",
      "Failure  :  63\n",
      "Round starts now!\n",
      "Success  :  57\n",
      "Failure  :  54\n",
      "Round starts now!\n",
      "Success  :  50\n",
      "Failure  :  45\n",
      "Round starts now!\n",
      "Success  :  28\n",
      "Failure  :  36\n",
      "Round starts now!\n",
      "Success  :  21\n",
      "Failure  :  27\n",
      "Round starts now!\n",
      "Success  :  14\n",
      "Failure  :  8\n",
      "Success won!\n"
     ]
    }
   ],
   "source": [
    "import random\n",
    "class bot:\n",
    "    def __init__(self, name, attack, defense):\n",
    "        self.name = name\n",
    "        self.health = 100\n",
    "        self.attack = attack\n",
    "        self.defense = defense\n",
    "        \n",
    "    def action(self, opponent):\n",
    "        action_num = random.randint(1,5)\n",
    "        \n",
    "        \n",
    "        if (action_num == 5):\n",
    "            opponent.take_damage(self.attack *2)\n",
    "        else:\n",
    "            opponent.take_damage(self.attack)\n",
    "            \n",
    "            \n",
    "            \n",
    "    def take_damage(self, attack):\n",
    "        self.health -= attack - self.defense\n",
    "        \n",
    "    def alive(self):\n",
    "        return self.health > 0\n",
    "        \n",
    "    def show_stats(self):\n",
    "        print(self.name,\" : \", self.health)\n",
    "        \n",
    "bot1 = bot(\"Success\", 10,8)\n",
    "bot2 = bot(\"Failure\",15,1)\n",
    "\n",
    "while bot1.alive() and bot2.alive():\n",
    "    print(\"Round starts now!\")\n",
    "    bot1.show_stats()\n",
    "    bot2.show_stats()\n",
    "    \n",
    "    bot1.action(bot2)\n",
    "    bot2.action(bot1)\n",
    "    \n",
    "if(not bot1.alive() and not bot2.alive()):\n",
    "    print('draw')\n",
    "elif(bot1.alive()):\n",
    "    print(bot1.name + ' won!')\n",
    "else:\n",
    "    print(bot2.name + ' won!')\n",
    "            \n",
    "    \n",
    "        "
   ]
  },
  {
   "cell_type": "code",
   "execution_count": null,
   "metadata": {},
   "outputs": [],
   "source": []
  }
 ],
 "metadata": {
  "kernelspec": {
   "display_name": "Python 3",
   "language": "python",
   "name": "python3"
  },
  "language_info": {
   "codemirror_mode": {
    "name": "ipython",
    "version": 3
   },
   "file_extension": ".py",
   "mimetype": "text/x-python",
   "name": "python",
   "nbconvert_exporter": "python",
   "pygments_lexer": "ipython3",
   "version": "3.7.1"
  }
 },
 "nbformat": 4,
 "nbformat_minor": 2
}
